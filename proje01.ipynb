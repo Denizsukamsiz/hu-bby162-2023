{
  "nbformat": 4,
  "nbformat_minor": 0,
  "metadata": {
    "colab": {
      "provenance": [],
      "authorship_tag": "ABX9TyMPeJ7HT6yVYAiRhZUzeOqZ",
      "include_colab_link": true
    },
    "kernelspec": {
      "name": "python3",
      "display_name": "Python 3"
    },
    "language_info": {
      "name": "python"
    }
  },
  "cells": [
    {
      "cell_type": "markdown",
      "metadata": {
        "id": "view-in-github",
        "colab_type": "text"
      },
      "source": [
        "<a href=\"https://colab.research.google.com/github/Denizsukamsiz/hu-bby162-2023/blob/main/proje01.ipynb\" target=\"_parent\"><img src=\"https://colab.research.google.com/assets/colab-badge.svg\" alt=\"Open In Colab\"/></a>"
      ]
    },
    {
      "cell_type": "code",
      "execution_count": 2,
      "metadata": {
        "colab": {
          "base_uri": "https://localhost:8080/"
        },
        "id": "vEvYw9VqYSOd",
        "outputId": "f7ad5d93-93d7-48b4-8d39-989c9d0af6d6"
      },
      "outputs": [
        {
          "output_type": "stream",
          "name": "stdout",
          "text": [
            "['Ragnorak', 'Wednesday', 'You', 'Riverdale', '1899', 'The Witcher', 'The Walking Dead']\n"
          ]
        }
      ],
      "source": [
        "# netflix dizileri için listeleme yaptım.\n",
        "\n",
        "#netflix dizilerini tanımlayalım.\n",
        "netflixdizileri = [\"Ragnorak\" , \"Wednesday\" , \"You\" , \"Riverdale\" , \"1899\" ,\"The Witcher\" , \"The Walking Dead\"]\n",
        "print(netflixdizileri)"
      ]
    },
    {
      "cell_type": "code",
      "source": [
        "#yeni diziler eklemek.\n",
        "netflixdizileri += [\"Archive 81\" , \"Dark\"]\n",
        "print(netflixdizileri)"
      ],
      "metadata": {
        "id": "vXwdjg6oBaCp",
        "outputId": "1c3a7582-ae93-4e0d-febd-834c309de611",
        "colab": {
          "base_uri": "https://localhost:8080/"
        }
      },
      "execution_count": 3,
      "outputs": [
        {
          "output_type": "stream",
          "name": "stdout",
          "text": [
            "['Ragnorak', 'Wednesday', 'You', 'Riverdale', '1899', 'The Witcher', 'The Walking Dead', 'Archive 81', 'Dark']\n"
          ]
        }
      ]
    },
    {
      "cell_type": "code",
      "source": [
        "#input ile listeye ekleme yapmak.\n",
        "girdi = input(\"Lütfen eklenecek diziyi girin: \")\n",
        "netflixdizileri.append(girdi)\n",
        "print(netflixdizileri)"
      ],
      "metadata": {
        "id": "F33AspDuCCyb",
        "outputId": "8d4d0619-beb4-4bf9-9fca-917c7d442e70",
        "colab": {
          "base_uri": "https://localhost:8080/"
        }
      },
      "execution_count": 4,
      "outputs": [
        {
          "output_type": "stream",
          "name": "stdout",
          "text": [
            "Lütfen eklenecek diziyi girin: şahmaran\n",
            "['Ragnorak', 'Wednesday', 'You', 'Riverdale', '1899', 'The Witcher', 'The Walking Dead', 'Archive 81', 'Dark', 'şahmaran']\n"
          ]
        }
      ]
    },
    {
      "cell_type": "code",
      "source": [
        "#güncelleme yaptım.\n",
        "print(netflixdizileri)\n",
        "gunceldizi1 = int(input(\"Güncellemek istediğiniz dizinin numarasını giriniz: \")) \n",
        "gunceldizi = input(\"Yeni değeri giriniz: \")\n",
        "netflixdizileri[gunceldizi1] = gunceldizi\n",
        "print(netflixdizileri)"
      ],
      "metadata": {
        "id": "n7Vlw26zCTuO",
        "outputId": "ea9dddd5-9bd8-4202-bb9a-0541ec970ad1",
        "colab": {
          "base_uri": "https://localhost:8080/"
        }
      },
      "execution_count": 17,
      "outputs": [
        {
          "output_type": "stream",
          "name": "stdout",
          "text": [
            "['Ragnorak', 'Wednesday', 'You', 'Riverdale', '1899', 'The Witcher', 'The Walking Dead', 'Archive 81', 'Dark', 'şahmaran']\n",
            "Güncellemek istediğiniz dizinin numarasını giriniz: 1\n",
            "Yeni değeri giriniz: 2\n",
            "['Ragnorak', '2', 'You', 'Riverdale', '1899', 'The Witcher', 'The Walking Dead', 'Archive 81', 'Dark', 'şahmaran']\n"
          ]
        }
      ]
    },
    {
      "cell_type": "code",
      "source": [
        "# izlenen diziyi tekrar görmemek için listeden çıkaralım.\n",
        "netflixdizileri[3:6]= []\n",
        "print(netflixdizileri)"
      ],
      "metadata": {
        "id": "vKmCzVsbFOIn",
        "outputId": "ce7b6f5e-ded4-4a9b-d79f-117075a3165d",
        "colab": {
          "base_uri": "https://localhost:8080/"
        }
      },
      "execution_count": 20,
      "outputs": [
        {
          "output_type": "stream",
          "name": "stdout",
          "text": [
            "['Ragnorak', '2', 'The Walking Dead']\n"
          ]
        }
      ]
    },
    {
      "cell_type": "code",
      "source": [
        "#bütün listeyi silmek.\n",
        "netflixdizileri[:]= []\n",
        "print(netflixdizileri)"
      ],
      "metadata": {
        "id": "02W566R1FdIR",
        "outputId": "4434f3d8-5757-4f55-8352-c54ed2ad60ae",
        "colab": {
          "base_uri": "https://localhost:8080/"
        }
      },
      "execution_count": 21,
      "outputs": [
        {
          "output_type": "stream",
          "name": "stdout",
          "text": [
            "[]\n"
          ]
        }
      ]
    },
    {
      "cell_type": "code",
      "source": [],
      "metadata": {
        "id": "fRTz7x58BZ_F"
      },
      "execution_count": null,
      "outputs": []
    }
  ]
}