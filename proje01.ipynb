{
  "nbformat": 4,
  "nbformat_minor": 0,
  "metadata": {
    "colab": {
      "provenance": [],
      "authorship_tag": "ABX9TyNw0YJGktC/AWbH/HOq1FLu",
      "include_colab_link": true
    },
    "kernelspec": {
      "name": "python3",
      "display_name": "Python 3"
    },
    "language_info": {
      "name": "python"
    }
  },
  "cells": [
    {
      "cell_type": "markdown",
      "metadata": {
        "id": "view-in-github",
        "colab_type": "text"
      },
      "source": [
        "<a href=\"https://colab.research.google.com/github/Denizsukamsiz/hu-bby162-2023/blob/main/proje01.ipynb\" target=\"_parent\"><img src=\"https://colab.research.google.com/assets/colab-badge.svg\" alt=\"Open In Colab\"/></a>"
      ]
    },
    {
      "cell_type": "code",
      "execution_count": 18,
      "metadata": {
        "colab": {
          "base_uri": "https://localhost:8080/"
        },
        "id": "vEvYw9VqYSOd",
        "outputId": "5e1cf8da-0bfc-4818-f81e-ca88a28c55ed"
      },
      "outputs": [
        {
          "output_type": "stream",
          "name": "stdout",
          "text": [
            "['Ragnorak', 'Wednesday', 'You', 'Riverdale', '1899', 'The Witcher', 'The Walking Dead']\n",
            "['Ragnorak', 'Wednesday', 'You', 'Riverdale', '1899', 'The Witcher', 'The Walking Dead', 'Archive 81', 'Dark']\n",
            "Lütfen eklenecek diziyi girin: 545\n",
            "['Ragnorak', 'Wednesday', 'You', 'Riverdale', '1899', 'The Witcher', 'The Walking Dead', 'Archive 81', 'Dark', '545']\n",
            "['Ragnorak', 'Wednesday', 'You', 'Riverdale', 'Archive 81', 'Dark', '545']\n",
            "[]\n"
          ]
        }
      ],
      "source": [
        "# netflix dizileri için listeleme yaptım.\n",
        "\n",
        "#netflix dizilerini tanımlayalım.\n",
        "netflixdizileri = [\"Ragnorak\" , \"Wednesday\" , \"You\" , \"Riverdale\" , \"1899\" ,\"The Witcher\" , \"The Walking Dead\"]\n",
        "print(netflixdizileri)\n",
        "\n",
        "#yeni diziler eklemek.\n",
        "netflixdizileri += [\"Archive 81\" , \"Dark\"]\n",
        "print(netflixdizileri)\n",
        "\n",
        "#input ile listeye ekleme yapmak.\n",
        "girdi = input(\"Lütfen eklenecek diziyi girin: \")\n",
        "netflixdizileri.append(girdi)\n",
        "print(netflixdizileri)\n",
        "\n",
        "# izlenen diziyi tekrar görmemek için listeden çıkaralım.\n",
        "netflixdizileri[4:7]= []\n",
        "print(netflixdizileri)\n",
        "\n",
        "#bütün listeyi silmek.\n",
        "netflixdizileri[:]= []\n",
        "print(netflixdizileri)\n"
      ]
    }
  ]
}