{
  "nbformat": 4,
  "nbformat_minor": 0,
  "metadata": {
    "colab": {
      "provenance": [],
      "authorship_tag": "ABX9TyOGMmCiAmS9uxh97yyY2CUI",
      "include_colab_link": true
    },
    "kernelspec": {
      "name": "python3",
      "display_name": "Python 3"
    },
    "language_info": {
      "name": "python"
    }
  },
  "cells": [
    {
      "cell_type": "markdown",
      "metadata": {
        "id": "view-in-github",
        "colab_type": "text"
      },
      "source": [
        "<a href=\"https://colab.research.google.com/github/Denizsukamsiz/hu-bby162-2023/blob/main/proje02.ipynb\" target=\"_parent\"><img src=\"https://colab.research.google.com/assets/colab-badge.svg\" alt=\"Open In Colab\"/></a>"
      ]
    },
    {
      "cell_type": "code",
      "execution_count": null,
      "metadata": {
        "colab": {
          "base_uri": "https://localhost:8080/"
        },
        "id": "5s5_nTrv29rm",
        "outputId": "6829b231-ada1-4476-8041-1c136c98b43d"
      },
      "outputs": [
        {
          "output_type": "stream",
          "name": "stdout",
          "text": [
            "Adam Asmaca oyununa hoş geldiniz...\n",
            "Lütfen bir seviye seçin: basit, orta, profesyonel\n",
            "basit\n",
            "Şehirler kategorisinde bir kelime (5 harf)\n",
            "Kalan canınız: 5\n",
            "_____\n",
            "Bir harf tahmin edin: ü\n",
            "Yanlış tahmin...\n",
            "Şehirler kategorisinde bir kelime (5 harf)\n",
            "Kalan canınız: 4\n",
            "_____\n",
            "Bir harf tahmin edin: ü\n",
            "Yanlış tahmin...\n",
            "Şehirler kategorisinde bir kelime (5 harf)\n",
            "Kalan canınız: 3\n",
            "_____\n",
            "Bir harf tahmin edin: ü\n",
            "Yanlış tahmin...\n",
            "Şehirler kategorisinde bir kelime (5 harf)\n",
            "Kalan canınız: 2\n",
            "_____\n",
            "Bir harf tahmin edin: k\n",
            "Yanlış tahmin...\n",
            "Şehirler kategorisinde bir kelime (5 harf)\n",
            "Kalan canınız: 1\n",
            "_____\n",
            "Bir harf tahmin edin: m\n",
            "Yanlış tahmin...\n",
            "Yanlış tahmin... Kelime: sinop\n",
            "Tekrar oynamak istiyor musunuz? (Evet/Hayır)\n",
            "evet\n",
            "Lütfen bir seviye seçin: basit, orta, profesyonel\n",
            "orta\n",
            "Şehirler kategorisinde bir kelime (5 harf)\n",
            "Kalan canınız: 3\n",
            "_____\n"
          ]
        }
      ],
      "source": [
        "import random\n",
        "\n",
        "kelimeler = {\n",
        "    \"isimler\": [\"asrın\", \"tolga\", \"deniz\", \"gamze\"],\n",
        "    \"meyveler\": [\"elma\", \"portakal\", \"muz\", \"çilek\"],\n",
        "    \"şehirler\": [\"muğla\", \"istanbul\", \"sinop\", \"bursa\"]\n",
        "}\n",
        "\n",
        "def adamasmaca():\n",
        "    print(\"Adam Asmaca oyununa hoş geldiniz...\")\n",
        "    while True:\n",
        "        # Seviye seçmek için\n",
        "        seviye = input(\"Lütfen bir seviye seçin: basit, orta, profesyonel\\n\").lower()\n",
        "        if seviye == \"basit\":\n",
        "            can = 5\n",
        "        elif seviye == \"orta\":\n",
        "            can = 3\n",
        "        elif seviye == \"profesyonel\":\n",
        "            can = 1\n",
        "        else:\n",
        "            print(\"Lütfen seviye seçiniz...\")\n",
        "            continue\n",
        "\n",
        "        # Kelime seçmek için\n",
        "        kategori = random.choice(list(kelimeler.keys()))\n",
        "        kelime = random.choice(kelimeler[kategori])\n",
        "        ipucu = f\"{kategori.capitalize()} kategorisinde bir kelime ({len(kelime)} harf)\"\n",
        "        harfler = set(kelime.lower())  # doğru tahmin edilen harfler için kullanılacak\n",
        "\n",
        "        # Oyunu başlatmak için\n",
        "        tahmin_edilen_harfler = set()  # doğru tahmin edilen harfler için kullanılacak\n",
        "        while can > 0:\n",
        "            print(ipucu)\n",
        "            print(f\"Kalan canınız: {can}\")\n",
        "            kelime2 = \"\".join([harf if harf in tahmin_edilen_harfler else \"_\" for harf in kelime])\n",
        "            print(kelime2)\n",
        "\n",
        "            # Tahmin için\n",
        "            tahmin = input(\"Bir harf tahmin edin: \").lower()\n",
        "            if tahmin in tahmin_edilen_harfler:\n",
        "                print(\"Bu harfi zaten tahmin ettiniz.\")\n",
        "            elif tahmin in kelime:\n",
        "                print(\"Doğru tahmin!\")\n",
        "                tahmin_edilen_harfler.add(tahmin)\n",
        "                if tahmin_edilen_harfler == set(kelime):\n",
        "                    print(f\"Tebrikler, kelimeyi doğru tahmin ettiniz! ({kelime})\")\n",
        "                    break\n",
        "            else:\n",
        "                print(\"Yanlış tahmin...\")\n",
        "                can -= 1\n",
        "                if can == 0:\n",
        "                    print(f\"Yanlış tahmin... Kelime: {kelime}\")\n",
        "\n",
        "        # Oyun yeniden oynama\n",
        "        yeniden_oyna = input(\"Tekrar oynamak istiyor musunuz? (Evet/Hayır)\\n\").lower()\n",
        "        if yeniden_oyna == \"evet\":\n",
        "            continue\n",
        "        else:\n",
        "            print(\"Oyun bitti...\")\n",
        "            break\n",
        "\n",
        "# Oyunu başlat\n",
        "adamasmaca()\n",
        "\n"
      ]
    }
  ]
}